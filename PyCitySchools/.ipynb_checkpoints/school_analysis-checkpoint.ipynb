{
 "cells": [
  {
   "cell_type": "code",
   "execution_count": 1,
   "id": "fc7b613e-cbf7-40fe-bea2-1ea04ad775dd",
   "metadata": {},
   "outputs": [
    {
     "name": "stdout",
     "output_type": "stream",
     "text": [
      "Hello, PyCitySchools\n"
     ]
    }
   ],
   "source": [
    "print(\"Hello, PyCitySchools\")"
   ]
  },
  {
   "cell_type": "code",
   "execution_count": null,
   "id": "102e9e13-d204-44eb-84b6-883105568989",
   "metadata": {},
   "outputs": [],
   "source": []
  }
 ],
 "metadata": {
  "kernelspec": {
   "display_name": "Python 3 (ipykernel)",
   "language": "python",
   "name": "python3"
  },
  "language_info": {
   "codemirror_mode": {
    "name": "ipython",
    "version": 3
   },
   "file_extension": ".py",
   "mimetype": "text/x-python",
   "name": "python",
   "nbconvert_exporter": "python",
   "pygments_lexer": "ipython3",
   "version": "3.12.4"
  }
 },
 "nbformat": 4,
 "nbformat_minor": 5
}
